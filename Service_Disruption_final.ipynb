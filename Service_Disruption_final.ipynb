{
  "nbformat": 4,
  "nbformat_minor": 0,
  "metadata": {
    "kernelspec": {
      "display_name": "Python 3",
      "language": "python",
      "name": "python3"
    },
    "language_info": {
      "codemirror_mode": {
        "name": "ipython",
        "version": 3
      },
      "file_extension": ".py",
      "mimetype": "text/x-python",
      "name": "python",
      "nbconvert_exporter": "python",
      "pygments_lexer": "ipython3",
      "version": "3.8.8"
    },
    "colab": {
      "name": "Service Disruption final.ipynb",
      "provenance": []
    }
  },
  "cells": [
    {
      "cell_type": "code",
      "metadata": {
        "id": "M86nmxvxgMLA"
      },
      "source": [
        "import numpy as np\n",
        "import pandas as pd\n",
        "import seaborn as sns\n",
        "import matplotlib.pyplot as plt\n",
        "%matplotlib inline\n",
        "import warnings\n",
        "warnings.filterwarnings(\"ignore\")\n",
        "from sklearn.model_selection import train_test_split\n",
        "pd.set_option(\"display.max_columns\",100)"
      ],
      "execution_count": 1,
      "outputs": []
    },
    {
      "cell_type": "code",
      "metadata": {
        "colab": {
          "base_uri": "https://localhost:8080/",
          "height": 204
        },
        "id": "xeso_Q6_gMLJ",
        "outputId": "bfbeb840-8b82-4d22-cbe2-ad3300812a08"
      },
      "source": [
        "event_type=pd.read_csv('event_type.csv')\n",
        "event_type.sample(5)"
      ],
      "execution_count": 2,
      "outputs": [
        {
          "output_type": "execute_result",
          "data": {
            "text/html": [
              "<div>\n",
              "<style scoped>\n",
              "    .dataframe tbody tr th:only-of-type {\n",
              "        vertical-align: middle;\n",
              "    }\n",
              "\n",
              "    .dataframe tbody tr th {\n",
              "        vertical-align: top;\n",
              "    }\n",
              "\n",
              "    .dataframe thead th {\n",
              "        text-align: right;\n",
              "    }\n",
              "</style>\n",
              "<table border=\"1\" class=\"dataframe\">\n",
              "  <thead>\n",
              "    <tr style=\"text-align: right;\">\n",
              "      <th></th>\n",
              "      <th>id</th>\n",
              "      <th>event_type</th>\n",
              "    </tr>\n",
              "  </thead>\n",
              "  <tbody>\n",
              "    <tr>\n",
              "      <th>869</th>\n",
              "      <td>1126</td>\n",
              "      <td>event_type 15</td>\n",
              "    </tr>\n",
              "    <tr>\n",
              "      <th>23725</th>\n",
              "      <td>9753</td>\n",
              "      <td>event_type 23</td>\n",
              "    </tr>\n",
              "    <tr>\n",
              "      <th>3228</th>\n",
              "      <td>15808</td>\n",
              "      <td>event_type 13</td>\n",
              "    </tr>\n",
              "    <tr>\n",
              "      <th>15342</th>\n",
              "      <td>18163</td>\n",
              "      <td>event_type 34</td>\n",
              "    </tr>\n",
              "    <tr>\n",
              "      <th>8552</th>\n",
              "      <td>2192</td>\n",
              "      <td>event_type 34</td>\n",
              "    </tr>\n",
              "  </tbody>\n",
              "</table>\n",
              "</div>"
            ],
            "text/plain": [
              "          id     event_type\n",
              "869     1126  event_type 15\n",
              "23725   9753  event_type 23\n",
              "3228   15808  event_type 13\n",
              "15342  18163  event_type 34\n",
              "8552    2192  event_type 34"
            ]
          },
          "metadata": {},
          "execution_count": 2
        }
      ]
    },
    {
      "cell_type": "code",
      "metadata": {
        "colab": {
          "base_uri": "https://localhost:8080/"
        },
        "id": "4lSh1Ri6gMLN",
        "outputId": "c56e758b-d9e4-420a-f5b3-0a5164443ba6"
      },
      "source": [
        "event_type.info()"
      ],
      "execution_count": 3,
      "outputs": [
        {
          "output_type": "stream",
          "name": "stdout",
          "text": [
            "<class 'pandas.core.frame.DataFrame'>\n",
            "RangeIndex: 31170 entries, 0 to 31169\n",
            "Data columns (total 2 columns):\n",
            " #   Column      Non-Null Count  Dtype \n",
            "---  ------      --------------  ----- \n",
            " 0   id          31170 non-null  int64 \n",
            " 1   event_type  31170 non-null  object\n",
            "dtypes: int64(1), object(1)\n",
            "memory usage: 487.2+ KB\n"
          ]
        }
      ]
    },
    {
      "cell_type": "code",
      "metadata": {
        "colab": {
          "base_uri": "https://localhost:8080/",
          "height": 173
        },
        "id": "8XeDsZyxgMLP",
        "outputId": "5c98ac65-45e9-47d1-a7ee-89336fcbb769"
      },
      "source": [
        "event_type['event_type'].replace('[^0-9.]','',inplace=True,regex=True)\n",
        "event_type.sample(4)"
      ],
      "execution_count": 4,
      "outputs": [
        {
          "output_type": "execute_result",
          "data": {
            "text/html": [
              "<div>\n",
              "<style scoped>\n",
              "    .dataframe tbody tr th:only-of-type {\n",
              "        vertical-align: middle;\n",
              "    }\n",
              "\n",
              "    .dataframe tbody tr th {\n",
              "        vertical-align: top;\n",
              "    }\n",
              "\n",
              "    .dataframe thead th {\n",
              "        text-align: right;\n",
              "    }\n",
              "</style>\n",
              "<table border=\"1\" class=\"dataframe\">\n",
              "  <thead>\n",
              "    <tr style=\"text-align: right;\">\n",
              "      <th></th>\n",
              "      <th>id</th>\n",
              "      <th>event_type</th>\n",
              "    </tr>\n",
              "  </thead>\n",
              "  <tbody>\n",
              "    <tr>\n",
              "      <th>13678</th>\n",
              "      <td>17698</td>\n",
              "      <td>34</td>\n",
              "    </tr>\n",
              "    <tr>\n",
              "      <th>947</th>\n",
              "      <td>14557</td>\n",
              "      <td>15</td>\n",
              "    </tr>\n",
              "    <tr>\n",
              "      <th>14228</th>\n",
              "      <td>4500</td>\n",
              "      <td>34</td>\n",
              "    </tr>\n",
              "    <tr>\n",
              "      <th>11807</th>\n",
              "      <td>4016</td>\n",
              "      <td>34</td>\n",
              "    </tr>\n",
              "  </tbody>\n",
              "</table>\n",
              "</div>"
            ],
            "text/plain": [
              "          id event_type\n",
              "13678  17698         34\n",
              "947    14557         15\n",
              "14228   4500         34\n",
              "11807   4016         34"
            ]
          },
          "metadata": {},
          "execution_count": 4
        }
      ]
    },
    {
      "cell_type": "code",
      "metadata": {
        "id": "OA435wRUgMLS"
      },
      "source": [
        "log_feature=pd.read_csv('log_feature.csv')"
      ],
      "execution_count": 5,
      "outputs": []
    },
    {
      "cell_type": "code",
      "metadata": {
        "colab": {
          "base_uri": "https://localhost:8080/",
          "height": 204
        },
        "id": "64uyGEqSgMLT",
        "outputId": "df967a9d-9d05-4754-8753-10c36ea58667"
      },
      "source": [
        "log_feature.sample(5)"
      ],
      "execution_count": 6,
      "outputs": [
        {
          "output_type": "execute_result",
          "data": {
            "text/html": [
              "<div>\n",
              "<style scoped>\n",
              "    .dataframe tbody tr th:only-of-type {\n",
              "        vertical-align: middle;\n",
              "    }\n",
              "\n",
              "    .dataframe tbody tr th {\n",
              "        vertical-align: top;\n",
              "    }\n",
              "\n",
              "    .dataframe thead th {\n",
              "        text-align: right;\n",
              "    }\n",
              "</style>\n",
              "<table border=\"1\" class=\"dataframe\">\n",
              "  <thead>\n",
              "    <tr style=\"text-align: right;\">\n",
              "      <th></th>\n",
              "      <th>id</th>\n",
              "      <th>log_feature</th>\n",
              "      <th>volume</th>\n",
              "    </tr>\n",
              "  </thead>\n",
              "  <tbody>\n",
              "    <tr>\n",
              "      <th>53269</th>\n",
              "      <td>8590</td>\n",
              "      <td>feature 376</td>\n",
              "      <td>9</td>\n",
              "    </tr>\n",
              "    <tr>\n",
              "      <th>51607</th>\n",
              "      <td>2363</td>\n",
              "      <td>feature 195</td>\n",
              "      <td>3</td>\n",
              "    </tr>\n",
              "    <tr>\n",
              "      <th>26716</th>\n",
              "      <td>17157</td>\n",
              "      <td>feature 312</td>\n",
              "      <td>10</td>\n",
              "    </tr>\n",
              "    <tr>\n",
              "      <th>6193</th>\n",
              "      <td>10921</td>\n",
              "      <td>feature 172</td>\n",
              "      <td>55</td>\n",
              "    </tr>\n",
              "    <tr>\n",
              "      <th>57717</th>\n",
              "      <td>3229</td>\n",
              "      <td>feature 345</td>\n",
              "      <td>1</td>\n",
              "    </tr>\n",
              "  </tbody>\n",
              "</table>\n",
              "</div>"
            ],
            "text/plain": [
              "          id  log_feature  volume\n",
              "53269   8590  feature 376       9\n",
              "51607   2363  feature 195       3\n",
              "26716  17157  feature 312      10\n",
              "6193   10921  feature 172      55\n",
              "57717   3229  feature 345       1"
            ]
          },
          "metadata": {},
          "execution_count": 6
        }
      ]
    },
    {
      "cell_type": "code",
      "metadata": {
        "colab": {
          "base_uri": "https://localhost:8080/"
        },
        "id": "T7Qv9J-QgMLU",
        "outputId": "8fa409d9-9a53-4428-b7da-30a0a1bb1be7"
      },
      "source": [
        "log_feature.info()"
      ],
      "execution_count": 7,
      "outputs": [
        {
          "output_type": "stream",
          "name": "stdout",
          "text": [
            "<class 'pandas.core.frame.DataFrame'>\n",
            "RangeIndex: 58671 entries, 0 to 58670\n",
            "Data columns (total 3 columns):\n",
            " #   Column       Non-Null Count  Dtype \n",
            "---  ------       --------------  ----- \n",
            " 0   id           58671 non-null  int64 \n",
            " 1   log_feature  58671 non-null  object\n",
            " 2   volume       58671 non-null  int64 \n",
            "dtypes: int64(2), object(1)\n",
            "memory usage: 1.3+ MB\n"
          ]
        }
      ]
    },
    {
      "cell_type": "code",
      "metadata": {
        "colab": {
          "base_uri": "https://localhost:8080/",
          "height": 204
        },
        "id": "7-aBRZJbgMLU",
        "outputId": "4ac09fec-a2a4-47f4-80e1-4074623da066"
      },
      "source": [
        "log_feature['log_feature'].replace('[^0-9.]','',inplace=True,regex=True)\n",
        "log_feature.sample(5)"
      ],
      "execution_count": 8,
      "outputs": [
        {
          "output_type": "execute_result",
          "data": {
            "text/html": [
              "<div>\n",
              "<style scoped>\n",
              "    .dataframe tbody tr th:only-of-type {\n",
              "        vertical-align: middle;\n",
              "    }\n",
              "\n",
              "    .dataframe tbody tr th {\n",
              "        vertical-align: top;\n",
              "    }\n",
              "\n",
              "    .dataframe thead th {\n",
              "        text-align: right;\n",
              "    }\n",
              "</style>\n",
              "<table border=\"1\" class=\"dataframe\">\n",
              "  <thead>\n",
              "    <tr style=\"text-align: right;\">\n",
              "      <th></th>\n",
              "      <th>id</th>\n",
              "      <th>log_feature</th>\n",
              "      <th>volume</th>\n",
              "    </tr>\n",
              "  </thead>\n",
              "  <tbody>\n",
              "    <tr>\n",
              "      <th>58021</th>\n",
              "      <td>14213</td>\n",
              "      <td>195</td>\n",
              "      <td>1</td>\n",
              "    </tr>\n",
              "    <tr>\n",
              "      <th>36932</th>\n",
              "      <td>10523</td>\n",
              "      <td>306</td>\n",
              "      <td>1</td>\n",
              "    </tr>\n",
              "    <tr>\n",
              "      <th>1712</th>\n",
              "      <td>375</td>\n",
              "      <td>82</td>\n",
              "      <td>76</td>\n",
              "    </tr>\n",
              "    <tr>\n",
              "      <th>33599</th>\n",
              "      <td>13030</td>\n",
              "      <td>312</td>\n",
              "      <td>86</td>\n",
              "    </tr>\n",
              "    <tr>\n",
              "      <th>20445</th>\n",
              "      <td>17030</td>\n",
              "      <td>233</td>\n",
              "      <td>1</td>\n",
              "    </tr>\n",
              "  </tbody>\n",
              "</table>\n",
              "</div>"
            ],
            "text/plain": [
              "          id log_feature  volume\n",
              "58021  14213         195       1\n",
              "36932  10523         306       1\n",
              "1712     375          82      76\n",
              "33599  13030         312      86\n",
              "20445  17030         233       1"
            ]
          },
          "metadata": {},
          "execution_count": 8
        }
      ]
    },
    {
      "cell_type": "code",
      "metadata": {
        "colab": {
          "base_uri": "https://localhost:8080/",
          "height": 204
        },
        "id": "gxJlQ2eGgMLW",
        "outputId": "5f4c080a-4943-4737-9dee-a61afeaab7ea"
      },
      "source": [
        "resource_type=pd.read_csv('resource_type.csv')\n",
        "resource_type.sample(5)"
      ],
      "execution_count": 9,
      "outputs": [
        {
          "output_type": "execute_result",
          "data": {
            "text/html": [
              "<div>\n",
              "<style scoped>\n",
              "    .dataframe tbody tr th:only-of-type {\n",
              "        vertical-align: middle;\n",
              "    }\n",
              "\n",
              "    .dataframe tbody tr th {\n",
              "        vertical-align: top;\n",
              "    }\n",
              "\n",
              "    .dataframe thead th {\n",
              "        text-align: right;\n",
              "    }\n",
              "</style>\n",
              "<table border=\"1\" class=\"dataframe\">\n",
              "  <thead>\n",
              "    <tr style=\"text-align: right;\">\n",
              "      <th></th>\n",
              "      <th>id</th>\n",
              "      <th>resource_type</th>\n",
              "    </tr>\n",
              "  </thead>\n",
              "  <tbody>\n",
              "    <tr>\n",
              "      <th>16300</th>\n",
              "      <td>8438</td>\n",
              "      <td>resource_type 8</td>\n",
              "    </tr>\n",
              "    <tr>\n",
              "      <th>14811</th>\n",
              "      <td>10905</td>\n",
              "      <td>resource_type 2</td>\n",
              "    </tr>\n",
              "    <tr>\n",
              "      <th>12098</th>\n",
              "      <td>645</td>\n",
              "      <td>resource_type 2</td>\n",
              "    </tr>\n",
              "    <tr>\n",
              "      <th>15362</th>\n",
              "      <td>17441</td>\n",
              "      <td>resource_type 8</td>\n",
              "    </tr>\n",
              "    <tr>\n",
              "      <th>4104</th>\n",
              "      <td>1834</td>\n",
              "      <td>resource_type 2</td>\n",
              "    </tr>\n",
              "  </tbody>\n",
              "</table>\n",
              "</div>"
            ],
            "text/plain": [
              "          id    resource_type\n",
              "16300   8438  resource_type 8\n",
              "14811  10905  resource_type 2\n",
              "12098    645  resource_type 2\n",
              "15362  17441  resource_type 8\n",
              "4104    1834  resource_type 2"
            ]
          },
          "metadata": {},
          "execution_count": 9
        }
      ]
    },
    {
      "cell_type": "code",
      "metadata": {
        "colab": {
          "base_uri": "https://localhost:8080/"
        },
        "id": "Kba_bFBcgMLc",
        "outputId": "52c5fc63-a6e0-4b50-a7a9-b413683dc517"
      },
      "source": [
        "resource_type.info()"
      ],
      "execution_count": 10,
      "outputs": [
        {
          "output_type": "stream",
          "name": "stdout",
          "text": [
            "<class 'pandas.core.frame.DataFrame'>\n",
            "RangeIndex: 21076 entries, 0 to 21075\n",
            "Data columns (total 2 columns):\n",
            " #   Column         Non-Null Count  Dtype \n",
            "---  ------         --------------  ----- \n",
            " 0   id             21076 non-null  int64 \n",
            " 1   resource_type  21076 non-null  object\n",
            "dtypes: int64(1), object(1)\n",
            "memory usage: 329.4+ KB\n"
          ]
        }
      ]
    },
    {
      "cell_type": "code",
      "metadata": {
        "colab": {
          "base_uri": "https://localhost:8080/",
          "height": 204
        },
        "id": "LIKrbuKjgMLe",
        "outputId": "aeb3e679-f381-4bc0-e2ef-328a42ede459"
      },
      "source": [
        "resource_type['resource_type'].replace('[^0-9.]','',inplace=True,regex=True)\n",
        "resource_type.sample(5)"
      ],
      "execution_count": 11,
      "outputs": [
        {
          "output_type": "execute_result",
          "data": {
            "text/html": [
              "<div>\n",
              "<style scoped>\n",
              "    .dataframe tbody tr th:only-of-type {\n",
              "        vertical-align: middle;\n",
              "    }\n",
              "\n",
              "    .dataframe tbody tr th {\n",
              "        vertical-align: top;\n",
              "    }\n",
              "\n",
              "    .dataframe thead th {\n",
              "        text-align: right;\n",
              "    }\n",
              "</style>\n",
              "<table border=\"1\" class=\"dataframe\">\n",
              "  <thead>\n",
              "    <tr style=\"text-align: right;\">\n",
              "      <th></th>\n",
              "      <th>id</th>\n",
              "      <th>resource_type</th>\n",
              "    </tr>\n",
              "  </thead>\n",
              "  <tbody>\n",
              "    <tr>\n",
              "      <th>6110</th>\n",
              "      <td>11409</td>\n",
              "      <td>2</td>\n",
              "    </tr>\n",
              "    <tr>\n",
              "      <th>1464</th>\n",
              "      <td>5726</td>\n",
              "      <td>8</td>\n",
              "    </tr>\n",
              "    <tr>\n",
              "      <th>3816</th>\n",
              "      <td>2132</td>\n",
              "      <td>2</td>\n",
              "    </tr>\n",
              "    <tr>\n",
              "      <th>20237</th>\n",
              "      <td>5366</td>\n",
              "      <td>2</td>\n",
              "    </tr>\n",
              "    <tr>\n",
              "      <th>6244</th>\n",
              "      <td>12083</td>\n",
              "      <td>2</td>\n",
              "    </tr>\n",
              "  </tbody>\n",
              "</table>\n",
              "</div>"
            ],
            "text/plain": [
              "          id resource_type\n",
              "6110   11409             2\n",
              "1464    5726             8\n",
              "3816    2132             2\n",
              "20237   5366             2\n",
              "6244   12083             2"
            ]
          },
          "metadata": {},
          "execution_count": 11
        }
      ]
    },
    {
      "cell_type": "code",
      "metadata": {
        "colab": {
          "base_uri": "https://localhost:8080/"
        },
        "id": "rYjShyYLgMLf",
        "outputId": "52792b29-3a59-401e-9589-f71444634ff3"
      },
      "source": [
        "resource_type.info()"
      ],
      "execution_count": 12,
      "outputs": [
        {
          "output_type": "stream",
          "name": "stdout",
          "text": [
            "<class 'pandas.core.frame.DataFrame'>\n",
            "RangeIndex: 21076 entries, 0 to 21075\n",
            "Data columns (total 2 columns):\n",
            " #   Column         Non-Null Count  Dtype \n",
            "---  ------         --------------  ----- \n",
            " 0   id             21076 non-null  int64 \n",
            " 1   resource_type  21076 non-null  object\n",
            "dtypes: int64(1), object(1)\n",
            "memory usage: 329.4+ KB\n"
          ]
        }
      ]
    },
    {
      "cell_type": "code",
      "metadata": {
        "colab": {
          "base_uri": "https://localhost:8080/",
          "height": 204
        },
        "id": "gNPH87-rgMLg",
        "outputId": "7e7ab0cd-41af-43fb-b4eb-ab0648ba4bb6"
      },
      "source": [
        "severity_type=pd.read_csv('severity_type.csv')\n",
        "severity_type.sample(5)"
      ],
      "execution_count": 13,
      "outputs": [
        {
          "output_type": "execute_result",
          "data": {
            "text/html": [
              "<div>\n",
              "<style scoped>\n",
              "    .dataframe tbody tr th:only-of-type {\n",
              "        vertical-align: middle;\n",
              "    }\n",
              "\n",
              "    .dataframe tbody tr th {\n",
              "        vertical-align: top;\n",
              "    }\n",
              "\n",
              "    .dataframe thead th {\n",
              "        text-align: right;\n",
              "    }\n",
              "</style>\n",
              "<table border=\"1\" class=\"dataframe\">\n",
              "  <thead>\n",
              "    <tr style=\"text-align: right;\">\n",
              "      <th></th>\n",
              "      <th>id</th>\n",
              "      <th>severity_type</th>\n",
              "    </tr>\n",
              "  </thead>\n",
              "  <tbody>\n",
              "    <tr>\n",
              "      <th>7869</th>\n",
              "      <td>9268</td>\n",
              "      <td>severity_type 2</td>\n",
              "    </tr>\n",
              "    <tr>\n",
              "      <th>5360</th>\n",
              "      <td>9458</td>\n",
              "      <td>severity_type 2</td>\n",
              "    </tr>\n",
              "    <tr>\n",
              "      <th>6626</th>\n",
              "      <td>18504</td>\n",
              "      <td>severity_type 2</td>\n",
              "    </tr>\n",
              "    <tr>\n",
              "      <th>10043</th>\n",
              "      <td>1441</td>\n",
              "      <td>severity_type 1</td>\n",
              "    </tr>\n",
              "    <tr>\n",
              "      <th>12536</th>\n",
              "      <td>16889</td>\n",
              "      <td>severity_type 1</td>\n",
              "    </tr>\n",
              "  </tbody>\n",
              "</table>\n",
              "</div>"
            ],
            "text/plain": [
              "          id    severity_type\n",
              "7869    9268  severity_type 2\n",
              "5360    9458  severity_type 2\n",
              "6626   18504  severity_type 2\n",
              "10043   1441  severity_type 1\n",
              "12536  16889  severity_type 1"
            ]
          },
          "metadata": {},
          "execution_count": 13
        }
      ]
    },
    {
      "cell_type": "code",
      "metadata": {
        "colab": {
          "base_uri": "https://localhost:8080/",
          "height": 142
        },
        "id": "sdVyIIqYgMLg",
        "outputId": "c68eca37-8bf5-4325-86fe-3e0c41246e56"
      },
      "source": [
        "severity_type['severity_type'].replace('[^0-9.]','',inplace=True,regex=True)\n",
        "severity_type.sample(3)"
      ],
      "execution_count": 14,
      "outputs": [
        {
          "output_type": "execute_result",
          "data": {
            "text/html": [
              "<div>\n",
              "<style scoped>\n",
              "    .dataframe tbody tr th:only-of-type {\n",
              "        vertical-align: middle;\n",
              "    }\n",
              "\n",
              "    .dataframe tbody tr th {\n",
              "        vertical-align: top;\n",
              "    }\n",
              "\n",
              "    .dataframe thead th {\n",
              "        text-align: right;\n",
              "    }\n",
              "</style>\n",
              "<table border=\"1\" class=\"dataframe\">\n",
              "  <thead>\n",
              "    <tr style=\"text-align: right;\">\n",
              "      <th></th>\n",
              "      <th>id</th>\n",
              "      <th>severity_type</th>\n",
              "    </tr>\n",
              "  </thead>\n",
              "  <tbody>\n",
              "    <tr>\n",
              "      <th>3730</th>\n",
              "      <td>6013</td>\n",
              "      <td>2</td>\n",
              "    </tr>\n",
              "    <tr>\n",
              "      <th>5701</th>\n",
              "      <td>9816</td>\n",
              "      <td>1</td>\n",
              "    </tr>\n",
              "    <tr>\n",
              "      <th>14052</th>\n",
              "      <td>2615</td>\n",
              "      <td>2</td>\n",
              "    </tr>\n",
              "  </tbody>\n",
              "</table>\n",
              "</div>"
            ],
            "text/plain": [
              "         id severity_type\n",
              "3730   6013             2\n",
              "5701   9816             1\n",
              "14052  2615             2"
            ]
          },
          "metadata": {},
          "execution_count": 14
        }
      ]
    },
    {
      "cell_type": "code",
      "metadata": {
        "colab": {
          "base_uri": "https://localhost:8080/",
          "height": 204
        },
        "id": "taLY5QIwgMLh",
        "outputId": "f09f0659-975e-49fc-cdcd-36d7cb062720"
      },
      "source": [
        "train=pd.read_csv('train.csv')\n",
        "train.sample(5)"
      ],
      "execution_count": 15,
      "outputs": [
        {
          "output_type": "execute_result",
          "data": {
            "text/html": [
              "<div>\n",
              "<style scoped>\n",
              "    .dataframe tbody tr th:only-of-type {\n",
              "        vertical-align: middle;\n",
              "    }\n",
              "\n",
              "    .dataframe tbody tr th {\n",
              "        vertical-align: top;\n",
              "    }\n",
              "\n",
              "    .dataframe thead th {\n",
              "        text-align: right;\n",
              "    }\n",
              "</style>\n",
              "<table border=\"1\" class=\"dataframe\">\n",
              "  <thead>\n",
              "    <tr style=\"text-align: right;\">\n",
              "      <th></th>\n",
              "      <th>id</th>\n",
              "      <th>location</th>\n",
              "      <th>fault_severity</th>\n",
              "    </tr>\n",
              "  </thead>\n",
              "  <tbody>\n",
              "    <tr>\n",
              "      <th>4354</th>\n",
              "      <td>80</td>\n",
              "      <td>location 194</td>\n",
              "      <td>0</td>\n",
              "    </tr>\n",
              "    <tr>\n",
              "      <th>3980</th>\n",
              "      <td>5784</td>\n",
              "      <td>location 1019</td>\n",
              "      <td>2</td>\n",
              "    </tr>\n",
              "    <tr>\n",
              "      <th>2479</th>\n",
              "      <td>10364</td>\n",
              "      <td>location 1050</td>\n",
              "      <td>0</td>\n",
              "    </tr>\n",
              "    <tr>\n",
              "      <th>7337</th>\n",
              "      <td>3511</td>\n",
              "      <td>location 996</td>\n",
              "      <td>0</td>\n",
              "    </tr>\n",
              "    <tr>\n",
              "      <th>665</th>\n",
              "      <td>1086</td>\n",
              "      <td>location 1093</td>\n",
              "      <td>0</td>\n",
              "    </tr>\n",
              "  </tbody>\n",
              "</table>\n",
              "</div>"
            ],
            "text/plain": [
              "         id       location  fault_severity\n",
              "4354     80   location 194               0\n",
              "3980   5784  location 1019               2\n",
              "2479  10364  location 1050               0\n",
              "7337   3511   location 996               0\n",
              "665    1086  location 1093               0"
            ]
          },
          "metadata": {},
          "execution_count": 15
        }
      ]
    },
    {
      "cell_type": "code",
      "metadata": {
        "colab": {
          "base_uri": "https://localhost:8080/"
        },
        "id": "PoJ9OlNrgMLi",
        "outputId": "8f0ee315-b38e-4a6d-ef77-addd8e706d1c"
      },
      "source": [
        "train.info()"
      ],
      "execution_count": 16,
      "outputs": [
        {
          "output_type": "stream",
          "name": "stdout",
          "text": [
            "<class 'pandas.core.frame.DataFrame'>\n",
            "RangeIndex: 7381 entries, 0 to 7380\n",
            "Data columns (total 3 columns):\n",
            " #   Column          Non-Null Count  Dtype \n",
            "---  ------          --------------  ----- \n",
            " 0   id              7381 non-null   int64 \n",
            " 1   location        7381 non-null   object\n",
            " 2   fault_severity  7381 non-null   int64 \n",
            "dtypes: int64(2), object(1)\n",
            "memory usage: 173.1+ KB\n"
          ]
        }
      ]
    },
    {
      "cell_type": "code",
      "metadata": {
        "colab": {
          "base_uri": "https://localhost:8080/",
          "height": 204
        },
        "id": "6ly0S-OYgMLj",
        "outputId": "1aa57008-faeb-4a61-fe95-fa191e6d34e6"
      },
      "source": [
        "train['location'].replace('[^0-9.]','',inplace=True,regex=True)\n",
        "train.sample(5)"
      ],
      "execution_count": 17,
      "outputs": [
        {
          "output_type": "execute_result",
          "data": {
            "text/html": [
              "<div>\n",
              "<style scoped>\n",
              "    .dataframe tbody tr th:only-of-type {\n",
              "        vertical-align: middle;\n",
              "    }\n",
              "\n",
              "    .dataframe tbody tr th {\n",
              "        vertical-align: top;\n",
              "    }\n",
              "\n",
              "    .dataframe thead th {\n",
              "        text-align: right;\n",
              "    }\n",
              "</style>\n",
              "<table border=\"1\" class=\"dataframe\">\n",
              "  <thead>\n",
              "    <tr style=\"text-align: right;\">\n",
              "      <th></th>\n",
              "      <th>id</th>\n",
              "      <th>location</th>\n",
              "      <th>fault_severity</th>\n",
              "    </tr>\n",
              "  </thead>\n",
              "  <tbody>\n",
              "    <tr>\n",
              "      <th>2640</th>\n",
              "      <td>2274</td>\n",
              "      <td>1034</td>\n",
              "      <td>0</td>\n",
              "    </tr>\n",
              "    <tr>\n",
              "      <th>5864</th>\n",
              "      <td>4056</td>\n",
              "      <td>961</td>\n",
              "      <td>1</td>\n",
              "    </tr>\n",
              "    <tr>\n",
              "      <th>6751</th>\n",
              "      <td>4959</td>\n",
              "      <td>607</td>\n",
              "      <td>0</td>\n",
              "    </tr>\n",
              "    <tr>\n",
              "      <th>7372</th>\n",
              "      <td>1628</td>\n",
              "      <td>224</td>\n",
              "      <td>1</td>\n",
              "    </tr>\n",
              "    <tr>\n",
              "      <th>4711</th>\n",
              "      <td>8678</td>\n",
              "      <td>619</td>\n",
              "      <td>1</td>\n",
              "    </tr>\n",
              "  </tbody>\n",
              "</table>\n",
              "</div>"
            ],
            "text/plain": [
              "        id location  fault_severity\n",
              "2640  2274     1034               0\n",
              "5864  4056      961               1\n",
              "6751  4959      607               0\n",
              "7372  1628      224               1\n",
              "4711  8678      619               1"
            ]
          },
          "metadata": {},
          "execution_count": 17
        }
      ]
    },
    {
      "cell_type": "code",
      "metadata": {
        "colab": {
          "base_uri": "https://localhost:8080/"
        },
        "id": "yhrCBzVJgMLk",
        "outputId": "bb11d7aa-d9fb-478d-b3bc-d5e8d68c9d3d"
      },
      "source": [
        "train.info()"
      ],
      "execution_count": 18,
      "outputs": [
        {
          "output_type": "stream",
          "name": "stdout",
          "text": [
            "<class 'pandas.core.frame.DataFrame'>\n",
            "RangeIndex: 7381 entries, 0 to 7380\n",
            "Data columns (total 3 columns):\n",
            " #   Column          Non-Null Count  Dtype \n",
            "---  ------          --------------  ----- \n",
            " 0   id              7381 non-null   int64 \n",
            " 1   location        7381 non-null   object\n",
            " 2   fault_severity  7381 non-null   int64 \n",
            "dtypes: int64(2), object(1)\n",
            "memory usage: 173.1+ KB\n"
          ]
        }
      ]
    },
    {
      "cell_type": "code",
      "metadata": {
        "colab": {
          "base_uri": "https://localhost:8080/",
          "height": 204
        },
        "id": "TaMvoDMugMLl",
        "outputId": "4ead84df-f15e-44b2-87f6-c90cb6630e62"
      },
      "source": [
        "df=train.merge(event_type,on='id').merge(resource_type,on='id').merge(severity_type,on='id').merge(log_feature,on='id')\n",
        "df.sample(5)"
      ],
      "execution_count": 19,
      "outputs": [
        {
          "output_type": "execute_result",
          "data": {
            "text/html": [
              "<div>\n",
              "<style scoped>\n",
              "    .dataframe tbody tr th:only-of-type {\n",
              "        vertical-align: middle;\n",
              "    }\n",
              "\n",
              "    .dataframe tbody tr th {\n",
              "        vertical-align: top;\n",
              "    }\n",
              "\n",
              "    .dataframe thead th {\n",
              "        text-align: right;\n",
              "    }\n",
              "</style>\n",
              "<table border=\"1\" class=\"dataframe\">\n",
              "  <thead>\n",
              "    <tr style=\"text-align: right;\">\n",
              "      <th></th>\n",
              "      <th>id</th>\n",
              "      <th>location</th>\n",
              "      <th>fault_severity</th>\n",
              "      <th>event_type</th>\n",
              "      <th>resource_type</th>\n",
              "      <th>severity_type</th>\n",
              "      <th>log_feature</th>\n",
              "      <th>volume</th>\n",
              "    </tr>\n",
              "  </thead>\n",
              "  <tbody>\n",
              "    <tr>\n",
              "      <th>29271</th>\n",
              "      <td>10956</td>\n",
              "      <td>102</td>\n",
              "      <td>0</td>\n",
              "      <td>35</td>\n",
              "      <td>2</td>\n",
              "      <td>2</td>\n",
              "      <td>307</td>\n",
              "      <td>1</td>\n",
              "    </tr>\n",
              "    <tr>\n",
              "      <th>17617</th>\n",
              "      <td>7685</td>\n",
              "      <td>494</td>\n",
              "      <td>0</td>\n",
              "      <td>34</td>\n",
              "      <td>2</td>\n",
              "      <td>2</td>\n",
              "      <td>232</td>\n",
              "      <td>127</td>\n",
              "    </tr>\n",
              "    <tr>\n",
              "      <th>26617</th>\n",
              "      <td>8025</td>\n",
              "      <td>126</td>\n",
              "      <td>0</td>\n",
              "      <td>34</td>\n",
              "      <td>2</td>\n",
              "      <td>2</td>\n",
              "      <td>307</td>\n",
              "      <td>1</td>\n",
              "    </tr>\n",
              "    <tr>\n",
              "      <th>19989</th>\n",
              "      <td>6882</td>\n",
              "      <td>122</td>\n",
              "      <td>0</td>\n",
              "      <td>35</td>\n",
              "      <td>2</td>\n",
              "      <td>2</td>\n",
              "      <td>313</td>\n",
              "      <td>4</td>\n",
              "    </tr>\n",
              "    <tr>\n",
              "      <th>12022</th>\n",
              "      <td>2827</td>\n",
              "      <td>300</td>\n",
              "      <td>0</td>\n",
              "      <td>20</td>\n",
              "      <td>2</td>\n",
              "      <td>1</td>\n",
              "      <td>219</td>\n",
              "      <td>1</td>\n",
              "    </tr>\n",
              "  </tbody>\n",
              "</table>\n",
              "</div>"
            ],
            "text/plain": [
              "          id location  fault_severity event_type resource_type severity_type  \\\n",
              "29271  10956      102               0         35             2             2   \n",
              "17617   7685      494               0         34             2             2   \n",
              "26617   8025      126               0         34             2             2   \n",
              "19989   6882      122               0         35             2             2   \n",
              "12022   2827      300               0         20             2             1   \n",
              "\n",
              "      log_feature  volume  \n",
              "29271         307       1  \n",
              "17617         232     127  \n",
              "26617         307       1  \n",
              "19989         313       4  \n",
              "12022         219       1  "
            ]
          },
          "metadata": {},
          "execution_count": 19
        }
      ]
    },
    {
      "cell_type": "code",
      "metadata": {
        "colab": {
          "base_uri": "https://localhost:8080/"
        },
        "id": "egFGNMLigMLl",
        "outputId": "bc75cc6f-24a4-4bc0-e0a8-22aae7e6e72f"
      },
      "source": [
        "df.isnull().sum()"
      ],
      "execution_count": 20,
      "outputs": [
        {
          "output_type": "execute_result",
          "data": {
            "text/plain": [
              "id                0\n",
              "location          0\n",
              "fault_severity    0\n",
              "event_type        0\n",
              "resource_type     0\n",
              "severity_type     0\n",
              "log_feature       0\n",
              "volume            0\n",
              "dtype: int64"
            ]
          },
          "metadata": {},
          "execution_count": 20
        }
      ]
    },
    {
      "cell_type": "code",
      "metadata": {
        "colab": {
          "base_uri": "https://localhost:8080/",
          "height": 142
        },
        "id": "HEb_WRBQgMLm",
        "outputId": "b378c646-2f14-46ba-8b07-7c486392965b"
      },
      "source": [
        "df.corr()"
      ],
      "execution_count": 21,
      "outputs": [
        {
          "output_type": "execute_result",
          "data": {
            "text/html": [
              "<div>\n",
              "<style scoped>\n",
              "    .dataframe tbody tr th:only-of-type {\n",
              "        vertical-align: middle;\n",
              "    }\n",
              "\n",
              "    .dataframe tbody tr th {\n",
              "        vertical-align: top;\n",
              "    }\n",
              "\n",
              "    .dataframe thead th {\n",
              "        text-align: right;\n",
              "    }\n",
              "</style>\n",
              "<table border=\"1\" class=\"dataframe\">\n",
              "  <thead>\n",
              "    <tr style=\"text-align: right;\">\n",
              "      <th></th>\n",
              "      <th>id</th>\n",
              "      <th>fault_severity</th>\n",
              "      <th>volume</th>\n",
              "    </tr>\n",
              "  </thead>\n",
              "  <tbody>\n",
              "    <tr>\n",
              "      <th>id</th>\n",
              "      <td>1.000000</td>\n",
              "      <td>-0.045528</td>\n",
              "      <td>-0.003244</td>\n",
              "    </tr>\n",
              "    <tr>\n",
              "      <th>fault_severity</th>\n",
              "      <td>-0.045528</td>\n",
              "      <td>1.000000</td>\n",
              "      <td>-0.027196</td>\n",
              "    </tr>\n",
              "    <tr>\n",
              "      <th>volume</th>\n",
              "      <td>-0.003244</td>\n",
              "      <td>-0.027196</td>\n",
              "      <td>1.000000</td>\n",
              "    </tr>\n",
              "  </tbody>\n",
              "</table>\n",
              "</div>"
            ],
            "text/plain": [
              "                      id  fault_severity    volume\n",
              "id              1.000000       -0.045528 -0.003244\n",
              "fault_severity -0.045528        1.000000 -0.027196\n",
              "volume         -0.003244       -0.027196  1.000000"
            ]
          },
          "metadata": {},
          "execution_count": 21
        }
      ]
    },
    {
      "cell_type": "code",
      "metadata": {
        "colab": {
          "base_uri": "https://localhost:8080/",
          "height": 297
        },
        "id": "IqQCVnCOgMLr",
        "outputId": "88916b9a-1d7a-4725-a4e1-cf3df90b7bcc"
      },
      "source": [
        "df.describe()"
      ],
      "execution_count": 22,
      "outputs": [
        {
          "output_type": "execute_result",
          "data": {
            "text/html": [
              "<div>\n",
              "<style scoped>\n",
              "    .dataframe tbody tr th:only-of-type {\n",
              "        vertical-align: middle;\n",
              "    }\n",
              "\n",
              "    .dataframe tbody tr th {\n",
              "        vertical-align: top;\n",
              "    }\n",
              "\n",
              "    .dataframe thead th {\n",
              "        text-align: right;\n",
              "    }\n",
              "</style>\n",
              "<table border=\"1\" class=\"dataframe\">\n",
              "  <thead>\n",
              "    <tr style=\"text-align: right;\">\n",
              "      <th></th>\n",
              "      <th>id</th>\n",
              "      <th>fault_severity</th>\n",
              "      <th>volume</th>\n",
              "    </tr>\n",
              "  </thead>\n",
              "  <tbody>\n",
              "    <tr>\n",
              "      <th>count</th>\n",
              "      <td>61839.000000</td>\n",
              "      <td>61839.000000</td>\n",
              "      <td>61839.000000</td>\n",
              "    </tr>\n",
              "    <tr>\n",
              "      <th>mean</th>\n",
              "      <td>9104.379469</td>\n",
              "      <td>0.549168</td>\n",
              "      <td>8.390336</td>\n",
              "    </tr>\n",
              "    <tr>\n",
              "      <th>std</th>\n",
              "      <td>5387.274195</td>\n",
              "      <td>0.727701</td>\n",
              "      <td>22.902491</td>\n",
              "    </tr>\n",
              "    <tr>\n",
              "      <th>min</th>\n",
              "      <td>1.000000</td>\n",
              "      <td>0.000000</td>\n",
              "      <td>1.000000</td>\n",
              "    </tr>\n",
              "    <tr>\n",
              "      <th>25%</th>\n",
              "      <td>4353.000000</td>\n",
              "      <td>0.000000</td>\n",
              "      <td>1.000000</td>\n",
              "    </tr>\n",
              "    <tr>\n",
              "      <th>50%</th>\n",
              "      <td>8981.000000</td>\n",
              "      <td>0.000000</td>\n",
              "      <td>2.000000</td>\n",
              "    </tr>\n",
              "    <tr>\n",
              "      <th>75%</th>\n",
              "      <td>13664.000000</td>\n",
              "      <td>1.000000</td>\n",
              "      <td>6.000000</td>\n",
              "    </tr>\n",
              "    <tr>\n",
              "      <th>max</th>\n",
              "      <td>18550.000000</td>\n",
              "      <td>2.000000</td>\n",
              "      <td>877.000000</td>\n",
              "    </tr>\n",
              "  </tbody>\n",
              "</table>\n",
              "</div>"
            ],
            "text/plain": [
              "                 id  fault_severity        volume\n",
              "count  61839.000000    61839.000000  61839.000000\n",
              "mean    9104.379469        0.549168      8.390336\n",
              "std     5387.274195        0.727701     22.902491\n",
              "min        1.000000        0.000000      1.000000\n",
              "25%     4353.000000        0.000000      1.000000\n",
              "50%     8981.000000        0.000000      2.000000\n",
              "75%    13664.000000        1.000000      6.000000\n",
              "max    18550.000000        2.000000    877.000000"
            ]
          },
          "metadata": {},
          "execution_count": 22
        }
      ]
    },
    {
      "cell_type": "code",
      "metadata": {
        "id": "TLyAlf2hgMLs"
      },
      "source": [
        "x,y=df.drop('fault_severity',axis=1),df[['fault_severity']]"
      ],
      "execution_count": 23,
      "outputs": []
    },
    {
      "cell_type": "code",
      "metadata": {
        "id": "oIXJcHP3gMLt"
      },
      "source": [
        "x=pd.get_dummies(x,drop_first=True)"
      ],
      "execution_count": 24,
      "outputs": []
    },
    {
      "cell_type": "code",
      "metadata": {
        "colab": {
          "base_uri": "https://localhost:8080/"
        },
        "id": "KAAi5t-PgMLu",
        "outputId": "f9d1bd10-d0bd-4666-eedf-fb9f064fd2ad"
      },
      "source": [
        "x.shape,y.shape"
      ],
      "execution_count": 25,
      "outputs": [
        {
          "output_type": "execute_result",
          "data": {
            "text/plain": [
              "((61839, 1321), (61839, 1))"
            ]
          },
          "metadata": {},
          "execution_count": 25
        }
      ]
    },
    {
      "cell_type": "code",
      "metadata": {
        "id": "7tzPUrnrgMLv"
      },
      "source": [
        " x_train,x_test,y_train,y_test=train_test_split(x,y,test_size=0.2,random_state=60)"
      ],
      "execution_count": 26,
      "outputs": []
    },
    {
      "cell_type": "code",
      "metadata": {
        "colab": {
          "base_uri": "https://localhost:8080/"
        },
        "id": "rowPIy8JgMLx",
        "outputId": "d0b26f42-e3b4-4912-ae55-252bb4b2799a"
      },
      "source": [
        "from sklearn.ensemble import GradientBoostingClassifier\n",
        "GBC=GradientBoostingClassifier()\n",
        "GBC.fit(x_train,y_train)"
      ],
      "execution_count": 27,
      "outputs": [
        {
          "output_type": "execute_result",
          "data": {
            "text/plain": [
              "GradientBoostingClassifier(ccp_alpha=0.0, criterion='friedman_mse', init=None,\n",
              "                           learning_rate=0.1, loss='deviance', max_depth=3,\n",
              "                           max_features=None, max_leaf_nodes=None,\n",
              "                           min_impurity_decrease=0.0, min_impurity_split=None,\n",
              "                           min_samples_leaf=1, min_samples_split=2,\n",
              "                           min_weight_fraction_leaf=0.0, n_estimators=100,\n",
              "                           n_iter_no_change=None, presort='deprecated',\n",
              "                           random_state=None, subsample=1.0, tol=0.0001,\n",
              "                           validation_fraction=0.1, verbose=0,\n",
              "                           warm_start=False)"
            ]
          },
          "metadata": {},
          "execution_count": 27
        }
      ]
    },
    {
      "cell_type": "code",
      "metadata": {
        "id": "nXTa9qnRgMLy"
      },
      "source": [
        "predict_gbc=GBC.predict_proba(x_test)"
      ],
      "execution_count": 28,
      "outputs": []
    },
    {
      "cell_type": "code",
      "metadata": {
        "colab": {
          "base_uri": "https://localhost:8080/"
        },
        "id": "4Kfw5Ui_gMLz",
        "outputId": "05859a77-4c9a-4c2b-b878-9ca1d9f0e547"
      },
      "source": [
        "predict_gbc[:,:]"
      ],
      "execution_count": 29,
      "outputs": [
        {
          "output_type": "execute_result",
          "data": {
            "text/plain": [
              "array([[0.15466966, 0.79889166, 0.04643868],\n",
              "       [0.92518906, 0.05712102, 0.01768992],\n",
              "       [0.57294904, 0.31156413, 0.11548683],\n",
              "       ...,\n",
              "       [0.47210007, 0.23501099, 0.29288894],\n",
              "       [0.63545072, 0.19602108, 0.16852819],\n",
              "       [0.63197711, 0.10394191, 0.26408098]])"
            ]
          },
          "metadata": {},
          "execution_count": 29
        }
      ]
    },
    {
      "cell_type": "code",
      "metadata": {
        "id": "vi6STJgZgMLz"
      },
      "source": [
        "result=pd.DataFrame({\n",
        "    \"id\":x_test.id,\n",
        "    \"Predicted fault severity\":y_test.fault_severity,\n",
        "    \"Prediction probility_0\":predict_gbc[:,0],\n",
        "    \"Prediction probility_1\":predict_gbc[:,1],\n",
        "    \"Prediction probility_2\":predict_gbc[:,2]\n",
        "})"
      ],
      "execution_count": 30,
      "outputs": []
    },
    {
      "cell_type": "code",
      "metadata": {
        "colab": {
          "base_uri": "https://localhost:8080/",
          "height": 204
        },
        "id": "cz5ejToegML0",
        "outputId": "e25ee739-9a7e-4bcc-b5f8-15283ee50bf9"
      },
      "source": [
        "result.sample(5)"
      ],
      "execution_count": 31,
      "outputs": [
        {
          "output_type": "execute_result",
          "data": {
            "text/html": [
              "<div>\n",
              "<style scoped>\n",
              "    .dataframe tbody tr th:only-of-type {\n",
              "        vertical-align: middle;\n",
              "    }\n",
              "\n",
              "    .dataframe tbody tr th {\n",
              "        vertical-align: top;\n",
              "    }\n",
              "\n",
              "    .dataframe thead th {\n",
              "        text-align: right;\n",
              "    }\n",
              "</style>\n",
              "<table border=\"1\" class=\"dataframe\">\n",
              "  <thead>\n",
              "    <tr style=\"text-align: right;\">\n",
              "      <th></th>\n",
              "      <th>id</th>\n",
              "      <th>Predicted fault severity</th>\n",
              "      <th>Prediction probility_0</th>\n",
              "      <th>Prediction probility_1</th>\n",
              "      <th>Prediction probility_2</th>\n",
              "    </tr>\n",
              "  </thead>\n",
              "  <tbody>\n",
              "    <tr>\n",
              "      <th>35076</th>\n",
              "      <td>11352</td>\n",
              "      <td>2</td>\n",
              "      <td>0.434626</td>\n",
              "      <td>0.396604</td>\n",
              "      <td>0.168770</td>\n",
              "    </tr>\n",
              "    <tr>\n",
              "      <th>37674</th>\n",
              "      <td>13088</td>\n",
              "      <td>1</td>\n",
              "      <td>0.451808</td>\n",
              "      <td>0.402967</td>\n",
              "      <td>0.145225</td>\n",
              "    </tr>\n",
              "    <tr>\n",
              "      <th>25987</th>\n",
              "      <td>2793</td>\n",
              "      <td>0</td>\n",
              "      <td>0.652424</td>\n",
              "      <td>0.150911</td>\n",
              "      <td>0.196665</td>\n",
              "    </tr>\n",
              "    <tr>\n",
              "      <th>59371</th>\n",
              "      <td>4289</td>\n",
              "      <td>0</td>\n",
              "      <td>0.787834</td>\n",
              "      <td>0.188912</td>\n",
              "      <td>0.023254</td>\n",
              "    </tr>\n",
              "    <tr>\n",
              "      <th>31203</th>\n",
              "      <td>9162</td>\n",
              "      <td>1</td>\n",
              "      <td>0.432199</td>\n",
              "      <td>0.438036</td>\n",
              "      <td>0.129765</td>\n",
              "    </tr>\n",
              "  </tbody>\n",
              "</table>\n",
              "</div>"
            ],
            "text/plain": [
              "          id  Predicted fault severity  Prediction probility_0  \\\n",
              "35076  11352                         2                0.434626   \n",
              "37674  13088                         1                0.451808   \n",
              "25987   2793                         0                0.652424   \n",
              "59371   4289                         0                0.787834   \n",
              "31203   9162                         1                0.432199   \n",
              "\n",
              "       Prediction probility_1  Prediction probility_2  \n",
              "35076                0.396604                0.168770  \n",
              "37674                0.402967                0.145225  \n",
              "25987                0.150911                0.196665  \n",
              "59371                0.188912                0.023254  \n",
              "31203                0.438036                0.129765  "
            ]
          },
          "metadata": {},
          "execution_count": 31
        }
      ]
    }
  ]
}